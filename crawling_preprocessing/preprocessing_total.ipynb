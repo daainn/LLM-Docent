{
 "cells": [
  {
   "cell_type": "markdown",
   "metadata": {},
   "source": [
    "### 진행 과정\n",
    "1. 파일 로드 및 결측치 제거\n",
    "2. 전처리 함수: 한자 제거\n",
    "3. 2번의 과정으로 생긴 결측치 제거\n",
    "4. 의미없는 문장 제거 함수 / 인덱스 정렬\n",
    "5. Description 컬럼의 의미없는 문장 인덱스 제거(수작업)\n",
    "6. 파일 저장"
   ]
  },
  {
   "cell_type": "markdown",
   "metadata": {},
   "source": [
    "### 1. 파일 로드 및 결측치 제거"
   ]
  },
  {
   "cell_type": "code",
   "execution_count": null,
   "metadata": {},
   "outputs": [],
   "source": [
    "import pandas as pd\n",
    "import numpy as np\n",
    "import glob\n",
    "import re"
   ]
  },
  {
   "cell_type": "code",
   "execution_count": null,
   "metadata": {},
   "outputs": [],
   "source": [
    "file_paths = [\"museum_data_1.csv\", \"museum_data_2.csv\", \"museum_data_3.csv\", \"museum_data_4.csv\", \"museum_data_5.csv\", \"museum_data_324.csv\", \"museum_data_35640.csv\"]\n",
    "\n",
    "df_list = [pd.read_csv(file) for file in file_paths]\n",
    "df_merged = pd.concat(df_list, ignore_index=True)\n",
    "print(len(df_merged))\n",
    "\n",
    "df_merged = df_merged.drop_duplicates(subset=[\"Title\"])\n",
    "print(len(df_merged))\n",
    "\n",
    "df_merged = df_merged.dropna(subset=[\"Title\", \"Description\"]) \n",
    "print(len(df_merged))\n",
    "\n",
    "print(f\"최종 데이터 개수: {len(df_merged)}\")\n",
    "\n",
    "df_merged.to_csv(\"merged_museum_data.csv\", index=False)"
   ]
  },
  {
   "cell_type": "markdown",
   "metadata": {},
   "source": [
    "### 2. 전처리 함수: 한자 제거"
   ]
  },
  {
   "cell_type": "code",
   "execution_count": null,
   "metadata": {},
   "outputs": [
    {
     "name": "stdout",
     "output_type": "stream",
     "text": [
      "<class 'pandas.core.frame.DataFrame'>\n",
      "Index: 7751 entries, 6 to 36011\n",
      "Data columns (total 3 columns):\n",
      " #   Column       Non-Null Count  Dtype \n",
      "---  ------       --------------  ----- \n",
      " 0   Title        7751 non-null   object\n",
      " 1   Image URL    7751 non-null   object\n",
      " 2   Description  7751 non-null   object\n",
      "dtypes: object(3)\n",
      "memory usage: 242.2+ KB\n",
      "✅ 한국어만 남기고 전처리 완료!\n"
     ]
    }
   ],
   "source": [
    "def keep_korean_only(text):\n",
    "    if isinstance(text, str):\n",
    "        text = re.sub(r'[^가-힣0-9\\s]', '', text) \n",
    "        text = re.sub(r'\\s+', ' ', text).strip()\n",
    "    return text\n",
    "\n",
    "df_merged[\"Title\"] = df_merged[\"Title\"].apply(keep_korean_only)\n",
    "df_merged[\"Description\"] = df_merged[\"Description\"].apply(keep_korean_only)\n",
    "\n",
    "df_merged.info()\n",
    "\n",
    "cleaned_file_path = \"merged_museum_data.csv\"\n",
    "df_merged.to_csv(cleaned_file_path, index=False)\n",
    "\n",
    "\n",
    "print(\"✅ 한국어만 남기고 전처리 완료!\")\n",
    "\n"
   ]
  },
  {
   "cell_type": "markdown",
   "metadata": {},
   "source": [
    "### 3. 2번 과정에서 생긴 결측치 제거"
   ]
  },
  {
   "cell_type": "code",
   "execution_count": null,
   "metadata": {},
   "outputs": [
    {
     "name": "stdout",
     "output_type": "stream",
     "text": [
      "<class 'pandas.core.frame.DataFrame'>\n",
      "Index: 7619 entries, 0 to 7750\n",
      "Data columns (total 3 columns):\n",
      " #   Column       Non-Null Count  Dtype \n",
      "---  ------       --------------  ----- \n",
      " 0   Title        7619 non-null   object\n",
      " 1   Image URL    7619 non-null   object\n",
      " 2   Description  7619 non-null   object\n",
      "dtypes: object(3)\n",
      "memory usage: 238.1+ KB\n",
      "🔹 파일이 저장되었습니다: merged_museum_data.csv\n"
     ]
    }
   ],
   "source": [
    "file_path = \"merged_museum_data.csv\"\n",
    "df_merged = pd.read_csv(file_path) \n",
    "\n",
    "df_merged[[\"Title\", \"Description\"]] = df_merged[[\"Title\", \"Description\"]].replace(r'^\\s*$', np.nan, regex=True)  \n",
    "df_merged = df_merged.dropna(subset=[\"Title\", \"Description\"])\n",
    "df_merged.info()\n",
    "\n",
    "cleaned_file_path = \"merged_museum_data.csv\"\n",
    "df_merged.to_csv(cleaned_file_path, index=False)\n",
    "\n",
    "print(f\"🔹 파일이 저장되었습니다: {cleaned_file_path}\")"
   ]
  },
  {
   "cell_type": "markdown",
   "metadata": {},
   "source": [
    "### 4. 의미없는 문장 제거 함수 / 인덱스 정렬"
   ]
  },
  {
   "cell_type": "code",
   "execution_count": null,
   "metadata": {},
   "outputs": [
    {
     "name": "stdout",
     "output_type": "stream",
     "text": [
      "7619\n",
      "7615\n",
      "🔹 파일이 저장되었습니다: merged_museum_data.csv\n"
     ]
    }
   ],
   "source": [
    "def remove_incomplete_sentences(text):\n",
    "    if isinstance(text, str):\n",
    "        meaningless_patterns = r'^\\s*(달고|달았음|으로|로서|이고|한|있음|만|마다|새긴|달었음|록로|팠음|폭|은|에는||을|를|에|과|와|및|의|로|에서|과 함께|의 경우|을 위해|을 통해|및 에선|을 하였음|에 있음|을 들었음|으로 하였음|및 으로|을 하여|있음|달았음|하였음)\\s*$'\n",
    "        if re.fullmatch(meaningless_patterns, text):\n",
    "            return np.nan \n",
    "    return text \n",
    "\n",
    "df_merged[\"Description\"] = df_merged[\"Description\"].apply(remove_incomplete_sentences)\n",
    "print(len(df_merged))\n",
    "\n",
    "df_merged = df_merged.dropna(subset=[\"Description\"])\n",
    "df_merged = df_merged.reset_index(drop=True)\n",
    "print(len(df_merged))\n",
    "\n",
    "cleaned_file_path = \"merged_museum_data.csv\"\n",
    "df_merged.to_csv(cleaned_file_path, index=False)\n",
    "\n",
    "print(f\"🔹 파일이 저장되었습니다: {cleaned_file_path}\")"
   ]
  },
  {
   "cell_type": "markdown",
   "metadata": {},
   "source": [
    "### 5. Description 컬럼의 의미없는 문장 인덱스 제거(수작업)"
   ]
  },
  {
   "cell_type": "code",
   "execution_count": null,
   "metadata": {},
   "outputs": [
    {
     "name": "stdout",
     "output_type": "stream",
     "text": [
      "🔹 총 147개의 행이 필터링되었습니다.\n",
      "25       용의 정수리에 최자가 새겨져 있다\n",
      "26                 왕 명문이 있다\n",
      "49              손잡이에 초문이 있다\n",
      "62           원판번호 66319 청동추\n",
      "69      측면에는 장사군전 글자가 양각되었다\n",
      "87        원판번호 61914 나전길상문함\n",
      "233           원판번호 70610 장도\n",
      "270          원판번호 290032 한경\n",
      "273    원판번호 97113 격납상자제목 종루\n",
      "329            원판번호 7656 문서\n",
      "347       앞면은 상평오 글자가 찍혀 있다\n",
      "368    원판번호 300113 도서자료 지석묘\n",
      "372                새겨진 문양 등\n",
      "382        원판번호 7209 통도사탑비명\n",
      "398      원판번호 8564 격납상자제목 병\n",
      "467            바닥에 정이 음각되었다\n",
      "491       내면 가운데 장흥고를 인화하였다\n",
      "505            원판번호 6475 서간\n",
      "534     외면에 려 모 을 등의 문자가 있다\n",
      "576         원판번호 6207 귀형화약통\n",
      "Name: Description, dtype: object\n"
     ]
    }
   ],
   "source": [
    "df_short_desc = df_merged[df_merged[\"Description\"].str.len() <= 20]\n",
    "\n",
    "print(f\"🔹 총 {len(df_short_desc)}개의 행이 필터링되었습니다.\")\n",
    "print(df_short_desc['Description'].head(20))\n"
   ]
  },
  {
   "cell_type": "markdown",
   "metadata": {},
   "source": [
    "### 6. 5번에서 거른 문장 삭제 후 파일 저장"
   ]
  },
  {
   "cell_type": "code",
   "execution_count": null,
   "metadata": {},
   "outputs": [
    {
     "name": "stdout",
     "output_type": "stream",
     "text": [
      "🔹 파일이 저장되었습니다: museum_data_6_final.csv\n"
     ]
    }
   ],
   "source": [
    "df_short_desc = df_short_desc.drop(index=[29, 83, 157, 180, 190, 192, 238, 256, 275, 280, 281, 286, 318, 331, 360, 395, 396, 397, 408, 429])\n",
    "df_short_desc = df_merged.reset_index(drop=True) \n",
    "cleaned_file_path = \"museum_data_6_final.csv\"\n",
    "df_short_desc.to_csv(cleaned_file_path, index=False)\n",
    "\n",
    "print(f\"🔹 파일이 저장되었습니다: {cleaned_file_path}\")\n"
   ]
  }
 ],
 "metadata": {
  "kernelspec": {
   "display_name": "vectordb_env",
   "language": "python",
   "name": "python3"
  },
  "language_info": {
   "codemirror_mode": {
    "name": "ipython",
    "version": 3
   },
   "file_extension": ".py",
   "mimetype": "text/x-python",
   "name": "python",
   "nbconvert_exporter": "python",
   "pygments_lexer": "ipython3",
   "version": "3.9.21"
  }
 },
 "nbformat": 4,
 "nbformat_minor": 2
}
